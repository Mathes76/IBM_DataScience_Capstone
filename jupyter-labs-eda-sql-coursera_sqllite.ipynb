{
 "cells": [
  {
   "cell_type": "markdown",
   "id": "89bd2879-a8c6-47b4-9a5c-ddd27cf08851",
   "metadata": {},
   "source": [
    "<p style=\"text-align:center\">\n",
    "    <a href=\"https://skills.network\" target=\"_blank\">\n",
    "    <img src=\"https://cf-courses-data.s3.us.cloud-object-storage.appdomain.cloud/assets/logos/SN_web_lightmode.png\" width=\"200\" alt=\"Skills Network Logo\">\n",
    "    </a>\n",
    "</p>\n",
    "\n",
    "<h1 align=center><font size = 5>Assignment: SQL Notebook for Peer Assignment</font></h1>\n",
    "\n",
    "Estimated time needed: **60** minutes.\n",
    "\n",
    "## Introduction\n",
    "Using this Python notebook you will:\n",
    "\n",
    "1.  Understand the Spacex DataSet\n",
    "2.  Load the dataset  into the corresponding table in a Db2 database\n",
    "3.  Execute SQL queries to answer assignment questions \n"
   ]
  },
  {
   "cell_type": "markdown",
   "id": "94d6d800-d057-4d5e-9cfe-3d050ebebbd3",
   "metadata": {},
   "source": [
    "## Overview of the DataSet\n",
    "\n",
    "SpaceX has gained worldwide attention for a series of historic milestones. \n",
    "\n",
    "It is the only private company ever to return a spacecraft from low-earth orbit, which it first accomplished in December 2010.\n",
    "SpaceX advertises Falcon 9 rocket launches on its website with a cost of 62 million dollars wheras other providers cost upward of 165 million dollars each, much of the savings is because Space X can reuse the first stage. \n",
    "\n",
    "\n",
    "Therefore if we can determine if the first stage will land, we can determine the cost of a launch. \n",
    "\n",
    "This information can be used if an alternate company wants to bid against SpaceX for a rocket launch.\n",
    "\n",
    "This dataset includes a record for each payload carried during a SpaceX mission into outer space.\n"
   ]
  },
  {
   "cell_type": "markdown",
   "id": "3fae4565-fca0-404a-bfdd-fb5c7b875377",
   "metadata": {},
   "source": [
    "### Download the datasets\n",
    "\n",
    "This assignment requires you to load the spacex dataset.\n",
    "\n",
    "In many cases the dataset to be analyzed is available as a .CSV (comma separated values) file, perhaps on the internet. Click on the link below to download and save the dataset (.CSV file):\n",
    "\n",
    " <a href=\"https://cf-courses-data.s3.us.cloud-object-storage.appdomain.cloud/IBM-DS0321EN-SkillsNetwork/labs/module_2/data/Spacex.csv\" target=\"_blank\">Spacex DataSet</a>\n",
    "\n"
   ]
  },
  {
   "cell_type": "code",
   "execution_count": 1,
   "id": "a4d7d307-8843-402a-9964-e7103b77aae3",
   "metadata": {},
   "outputs": [
    {
     "name": "stdout",
     "output_type": "stream",
     "text": [
      "Collecting sqlalchemy==1.3.9\n",
      "  Downloading SQLAlchemy-1.3.9.tar.gz (6.0 MB)\n",
      "     ---------------------------------------- 0.0/6.0 MB ? eta -:--:--\n",
      "     ---------- ----------------------------- 1.6/6.0 MB 7.7 MB/s eta 0:00:01\n",
      "     ------------------- -------------------- 2.9/6.0 MB 7.0 MB/s eta 0:00:01\n",
      "     ---------------------------- ----------- 4.2/6.0 MB 6.6 MB/s eta 0:00:01\n",
      "     ---------------------------------------- 6.0/6.0 MB 7.2 MB/s eta 0:00:00\n",
      "  Preparing metadata (setup.py): started\n",
      "  Preparing metadata (setup.py): finished with status 'done'\n",
      "Building wheels for collected packages: sqlalchemy\n",
      "  Building wheel for sqlalchemy (setup.py): started\n",
      "  Building wheel for sqlalchemy (setup.py): finished with status 'done'\n",
      "  Created wheel for sqlalchemy: filename=SQLAlchemy-1.3.9-cp312-cp312-win_amd64.whl size=1142950 sha256=6cb12ea4b6644bbf617538fd146a9f02d3e17001455b813453ccdc35cddc6c3a\n",
      "  Stored in directory: c:\\users\\andie\\appdata\\local\\pip\\cache\\wheels\\b3\\1c\\42\\0e26b8d512adc6bce10ff71a05229366b4ccec641cd3b42111\n",
      "Successfully built sqlalchemy\n",
      "Installing collected packages: sqlalchemy\n",
      "  Attempting uninstall: sqlalchemy\n",
      "    Found existing installation: SQLAlchemy 2.0.34\n",
      "    Uninstalling SQLAlchemy-2.0.34:\n",
      "      Successfully uninstalled SQLAlchemy-2.0.34\n",
      "Successfully installed sqlalchemy-1.3.9\n"
     ]
    },
    {
     "name": "stderr",
     "output_type": "stream",
     "text": [
      "ERROR: pip's dependency resolver does not currently take into account all the packages that are installed. This behaviour is the source of the following dependency conflicts.\n",
      "aext-project-filebrowser-server 4.1.0 requires sqlalchemy>=2.0.29, but you have sqlalchemy 1.3.9 which is incompatible.\n"
     ]
    }
   ],
   "source": [
    "!pip install sqlalchemy==1.3.9\n"
   ]
  },
  {
   "cell_type": "markdown",
   "id": "03fa3071-0727-447f-8076-788d56c426af",
   "metadata": {},
   "source": [
    "### Connect to the database\n",
    "\n",
    "Let us first load the SQL extension and establish a connection with the database\n"
   ]
  },
  {
   "cell_type": "code",
   "execution_count": 2,
   "id": "c385650c-98a7-4bd9-a003-3b9ced43dec9",
   "metadata": {},
   "outputs": [
    {
     "name": "stdout",
     "output_type": "stream",
     "text": [
      "Collecting ipython-sql\n",
      "  Downloading ipython_sql-0.5.0-py3-none-any.whl.metadata (17 kB)\n",
      "Collecting prettytable (from ipython-sql)\n",
      "  Downloading prettytable-3.16.0-py3-none-any.whl.metadata (33 kB)\n",
      "Requirement already satisfied: ipython in c:\\users\\andie\\anaconda3\\lib\\site-packages (from ipython-sql) (8.27.0)\n",
      "Collecting sqlalchemy>=2.0 (from ipython-sql)\n",
      "  Downloading sqlalchemy-2.0.40-cp312-cp312-win_amd64.whl.metadata (9.9 kB)\n",
      "Collecting sqlparse (from ipython-sql)\n",
      "  Downloading sqlparse-0.5.3-py3-none-any.whl.metadata (3.9 kB)\n",
      "Requirement already satisfied: six in c:\\users\\andie\\anaconda3\\lib\\site-packages (from ipython-sql) (1.16.0)\n",
      "Requirement already satisfied: ipython-genutils in c:\\users\\andie\\anaconda3\\lib\\site-packages (from ipython-sql) (0.2.0)\n",
      "Requirement already satisfied: greenlet>=1 in c:\\users\\andie\\anaconda3\\lib\\site-packages (from sqlalchemy>=2.0->ipython-sql) (3.0.1)\n",
      "Requirement already satisfied: typing-extensions>=4.6.0 in c:\\users\\andie\\anaconda3\\lib\\site-packages (from sqlalchemy>=2.0->ipython-sql) (4.11.0)\n",
      "Requirement already satisfied: decorator in c:\\users\\andie\\anaconda3\\lib\\site-packages (from ipython->ipython-sql) (5.1.1)\n",
      "Requirement already satisfied: jedi>=0.16 in c:\\users\\andie\\anaconda3\\lib\\site-packages (from ipython->ipython-sql) (0.19.1)\n",
      "Requirement already satisfied: matplotlib-inline in c:\\users\\andie\\anaconda3\\lib\\site-packages (from ipython->ipython-sql) (0.1.6)\n",
      "Requirement already satisfied: prompt-toolkit<3.1.0,>=3.0.41 in c:\\users\\andie\\anaconda3\\lib\\site-packages (from ipython->ipython-sql) (3.0.43)\n",
      "Requirement already satisfied: pygments>=2.4.0 in c:\\users\\andie\\anaconda3\\lib\\site-packages (from ipython->ipython-sql) (2.15.1)\n",
      "Requirement already satisfied: stack-data in c:\\users\\andie\\anaconda3\\lib\\site-packages (from ipython->ipython-sql) (0.2.0)\n",
      "Requirement already satisfied: traitlets>=5.13.0 in c:\\users\\andie\\anaconda3\\lib\\site-packages (from ipython->ipython-sql) (5.14.3)\n",
      "Requirement already satisfied: colorama in c:\\users\\andie\\anaconda3\\lib\\site-packages (from ipython->ipython-sql) (0.4.6)\n",
      "Requirement already satisfied: wcwidth in c:\\users\\andie\\anaconda3\\lib\\site-packages (from prettytable->ipython-sql) (0.2.5)\n",
      "Requirement already satisfied: parso<0.9.0,>=0.8.3 in c:\\users\\andie\\anaconda3\\lib\\site-packages (from jedi>=0.16->ipython->ipython-sql) (0.8.3)\n",
      "Requirement already satisfied: executing in c:\\users\\andie\\anaconda3\\lib\\site-packages (from stack-data->ipython->ipython-sql) (0.8.3)\n",
      "Requirement already satisfied: asttokens in c:\\users\\andie\\anaconda3\\lib\\site-packages (from stack-data->ipython->ipython-sql) (2.0.5)\n",
      "Requirement already satisfied: pure-eval in c:\\users\\andie\\anaconda3\\lib\\site-packages (from stack-data->ipython->ipython-sql) (0.2.2)\n",
      "Downloading ipython_sql-0.5.0-py3-none-any.whl (20 kB)\n",
      "Downloading sqlalchemy-2.0.40-cp312-cp312-win_amd64.whl (2.1 MB)\n",
      "   ---------------------------------------- 0.0/2.1 MB ? eta -:--:--\n",
      "   ---------------------------------------- 2.1/2.1 MB 11.8 MB/s eta 0:00:00\n",
      "Downloading prettytable-3.16.0-py3-none-any.whl (33 kB)\n",
      "Downloading sqlparse-0.5.3-py3-none-any.whl (44 kB)\n",
      "Installing collected packages: sqlparse, sqlalchemy, prettytable, ipython-sql\n",
      "  Attempting uninstall: sqlalchemy\n",
      "    Found existing installation: SQLAlchemy 1.3.9\n",
      "    Uninstalling SQLAlchemy-1.3.9:\n",
      "      Successfully uninstalled SQLAlchemy-1.3.9\n",
      "Successfully installed ipython-sql-0.5.0 prettytable-3.16.0 sqlalchemy-2.0.40 sqlparse-0.5.3\n",
      "Requirement already satisfied: ipython-sql in c:\\users\\andie\\anaconda3\\lib\\site-packages (0.5.0)\n",
      "Requirement already satisfied: prettytable in c:\\users\\andie\\anaconda3\\lib\\site-packages (3.16.0)\n",
      "Requirement already satisfied: ipython in c:\\users\\andie\\anaconda3\\lib\\site-packages (from ipython-sql) (8.27.0)\n",
      "Requirement already satisfied: sqlalchemy>=2.0 in c:\\users\\andie\\anaconda3\\lib\\site-packages (from ipython-sql) (2.0.40)\n",
      "Requirement already satisfied: sqlparse in c:\\users\\andie\\anaconda3\\lib\\site-packages (from ipython-sql) (0.5.3)\n",
      "Requirement already satisfied: six in c:\\users\\andie\\anaconda3\\lib\\site-packages (from ipython-sql) (1.16.0)\n",
      "Requirement already satisfied: ipython-genutils in c:\\users\\andie\\anaconda3\\lib\\site-packages (from ipython-sql) (0.2.0)\n",
      "Requirement already satisfied: wcwidth in c:\\users\\andie\\anaconda3\\lib\\site-packages (from prettytable) (0.2.5)\n",
      "Requirement already satisfied: greenlet>=1 in c:\\users\\andie\\anaconda3\\lib\\site-packages (from sqlalchemy>=2.0->ipython-sql) (3.0.1)\n",
      "Requirement already satisfied: typing-extensions>=4.6.0 in c:\\users\\andie\\anaconda3\\lib\\site-packages (from sqlalchemy>=2.0->ipython-sql) (4.11.0)\n",
      "Requirement already satisfied: decorator in c:\\users\\andie\\anaconda3\\lib\\site-packages (from ipython->ipython-sql) (5.1.1)\n",
      "Requirement already satisfied: jedi>=0.16 in c:\\users\\andie\\anaconda3\\lib\\site-packages (from ipython->ipython-sql) (0.19.1)\n",
      "Requirement already satisfied: matplotlib-inline in c:\\users\\andie\\anaconda3\\lib\\site-packages (from ipython->ipython-sql) (0.1.6)\n",
      "Requirement already satisfied: prompt-toolkit<3.1.0,>=3.0.41 in c:\\users\\andie\\anaconda3\\lib\\site-packages (from ipython->ipython-sql) (3.0.43)\n",
      "Requirement already satisfied: pygments>=2.4.0 in c:\\users\\andie\\anaconda3\\lib\\site-packages (from ipython->ipython-sql) (2.15.1)\n",
      "Requirement already satisfied: stack-data in c:\\users\\andie\\anaconda3\\lib\\site-packages (from ipython->ipython-sql) (0.2.0)\n",
      "Requirement already satisfied: traitlets>=5.13.0 in c:\\users\\andie\\anaconda3\\lib\\site-packages (from ipython->ipython-sql) (5.14.3)\n",
      "Requirement already satisfied: colorama in c:\\users\\andie\\anaconda3\\lib\\site-packages (from ipython->ipython-sql) (0.4.6)\n",
      "Requirement already satisfied: parso<0.9.0,>=0.8.3 in c:\\users\\andie\\anaconda3\\lib\\site-packages (from jedi>=0.16->ipython->ipython-sql) (0.8.3)\n",
      "Requirement already satisfied: executing in c:\\users\\andie\\anaconda3\\lib\\site-packages (from stack-data->ipython->ipython-sql) (0.8.3)\n",
      "Requirement already satisfied: asttokens in c:\\users\\andie\\anaconda3\\lib\\site-packages (from stack-data->ipython->ipython-sql) (2.0.5)\n",
      "Requirement already satisfied: pure-eval in c:\\users\\andie\\anaconda3\\lib\\site-packages (from stack-data->ipython->ipython-sql) (0.2.2)\n"
     ]
    }
   ],
   "source": [
    "!pip install ipython-sql\n",
    "!pip install ipython-sql prettytable"
   ]
  },
  {
   "cell_type": "code",
   "execution_count": 3,
   "id": "a0b74990-cc58-4adc-b89e-9a942b4851b6",
   "metadata": {},
   "outputs": [],
   "source": [
    "%load_ext sql"
   ]
  },
  {
   "cell_type": "code",
   "execution_count": 4,
   "id": "8029f1cc-2b5d-4996-bf18-167fa8cad4fd",
   "metadata": {},
   "outputs": [],
   "source": [
    "import csv, sqlite3\n",
    "import prettytable\n",
    "prettytable.DEFAULT = 'DEFAULT'\n",
    "\n",
    "con = sqlite3.connect(\"my_data1.db\")\n",
    "cur = con.cursor()"
   ]
  },
  {
   "cell_type": "code",
   "execution_count": 5,
   "id": "dc62f345-3a63-4efd-97a0-09f6c1f71e2a",
   "metadata": {},
   "outputs": [],
   "source": [
    "!pip install -q pandas"
   ]
  },
  {
   "cell_type": "code",
   "execution_count": 6,
   "id": "38faa6c1-4573-4ddd-bf97-0021260e66a1",
   "metadata": {},
   "outputs": [],
   "source": [
    "%sql sqlite:///my_data1.db"
   ]
  },
  {
   "cell_type": "code",
   "execution_count": 7,
   "id": "a7a5ce5d-3433-4a9f-9057-ed47998264b1",
   "metadata": {},
   "outputs": [
    {
     "name": "stdout",
     "output_type": "stream",
     "text": [
      "           Date Time (UTC) Booster_Version   Launch_Site  \\\n",
      "0    2010-06-04   18:45:00  F9 v1.0  B0003   CCAFS LC-40   \n",
      "1    2010-12-08   15:43:00  F9 v1.0  B0004   CCAFS LC-40   \n",
      "2    2012-05-22    7:44:00  F9 v1.0  B0005   CCAFS LC-40   \n",
      "3    2012-10-08    0:35:00  F9 v1.0  B0006   CCAFS LC-40   \n",
      "4    2013-03-01   15:10:00  F9 v1.0  B0007   CCAFS LC-40   \n",
      "..          ...        ...             ...           ...   \n",
      "96   2020-11-05   23:24:23    F9 B5B1062.1  CCAFS SLC-40   \n",
      "97   2020-11-16    0:27:00   F9 B5B1061.1     KSC LC-39A   \n",
      "98   2020-11-21   17:17:08    F9 B5B1063.1   VAFB SLC-4E   \n",
      "99   2020-11-25    2:13:00  F9 B5 B1049.7   CCAFS SLC-40   \n",
      "100  2020-12-06   16:17:08  F9 B5 B1058.4     KSC LC-39A   \n",
      "\n",
      "                                               Payload  PAYLOAD_MASS__KG_  \\\n",
      "0                 Dragon Spacecraft Qualification Unit                  0   \n",
      "1    Dragon demo flight C1, two CubeSats, barrel of...                  0   \n",
      "2                                Dragon demo flight C2                525   \n",
      "3                                         SpaceX CRS-1                500   \n",
      "4                                         SpaceX CRS-2                677   \n",
      "..                                                 ...                ...   \n",
      "96                                 GPS III-04 , Crew-1               4311   \n",
      "97                Crew-1, Sentinel-6 Michael Freilich               12500   \n",
      "98      Sentinel-6 Michael Freilich, Starlink 15 v1.0                1192   \n",
      "99                     Starlink 15 v1.0, SpaceX CRS-21              15600   \n",
      "100                                      SpaceX CRS-21               2972   \n",
      "\n",
      "         Orbit                      Customer Mission_Outcome  \\\n",
      "0          LEO                        SpaceX         Success   \n",
      "1    LEO (ISS)               NASA (COTS) NRO         Success   \n",
      "2    LEO (ISS)                   NASA (COTS)         Success   \n",
      "3    LEO (ISS)                    NASA (CRS)         Success   \n",
      "4    LEO (ISS)                    NASA (CRS)         Success   \n",
      "..         ...                           ...             ...   \n",
      "96         MEO                          USSF         Success   \n",
      "97   LEO (ISS)                    NASA (CCP)         Success   \n",
      "98         LEO  NASA / NOAA / ESA / EUMETSAT         Success   \n",
      "99         LEO                        SpaceX         Success   \n",
      "100  LEO (ISS)                    NASA (CRS)         Success   \n",
      "\n",
      "         Landing_Outcome  \n",
      "0    Failure (parachute)  \n",
      "1    Failure (parachute)  \n",
      "2             No attempt  \n",
      "3             No attempt  \n",
      "4             No attempt  \n",
      "..                   ...  \n",
      "96               Success  \n",
      "97               Success  \n",
      "98               Success  \n",
      "99               Success  \n",
      "100              Success  \n",
      "\n",
      "[101 rows x 10 columns]\n"
     ]
    }
   ],
   "source": [
    "import pandas as pd\n",
    "df = pd.read_csv(\"https://cf-courses-data.s3.us.cloud-object-storage.appdomain.cloud/IBM-DS0321EN-SkillsNetwork/labs/module_2/data/Spacex.csv\")\n",
    "df.to_sql(\"SPACEXTBL\", con, if_exists='replace', index=False,method=\"multi\")\n",
    "print(df)"
   ]
  },
  {
   "cell_type": "markdown",
   "id": "528aa40a-4284-4d41-b0b6-dd4d8b309d57",
   "metadata": {},
   "source": [
    "**Note:This below code is added to remove blank rows from table**\n"
   ]
  },
  {
   "cell_type": "code",
   "execution_count": 8,
   "id": "85213691-a735-483e-805e-c9ad140a83f4",
   "metadata": {},
   "outputs": [
    {
     "name": "stdout",
     "output_type": "stream",
     "text": [
      " * sqlite:///my_data1.db\n",
      "Done.\n"
     ]
    },
    {
     "data": {
      "text/plain": [
       "[]"
      ]
     },
     "execution_count": 8,
     "metadata": {},
     "output_type": "execute_result"
    }
   ],
   "source": [
    "#DROP THE TABLE IF EXISTS\n",
    "\n",
    "%sql DROP TABLE IF EXISTS SPACEXTABLE;"
   ]
  },
  {
   "cell_type": "code",
   "execution_count": 9,
   "id": "8a2f7a9d-4f67-4016-905e-6716b93c2c08",
   "metadata": {},
   "outputs": [
    {
     "name": "stdout",
     "output_type": "stream",
     "text": [
      " * sqlite:///my_data1.db\n",
      "Done.\n"
     ]
    },
    {
     "data": {
      "text/plain": [
       "[]"
      ]
     },
     "execution_count": 9,
     "metadata": {},
     "output_type": "execute_result"
    }
   ],
   "source": [
    "%sql create table SPACEXTABLE as select * from SPACEXTBL where Date is not null"
   ]
  },
  {
   "cell_type": "markdown",
   "id": "6dde26fd-86f4-4b09-8ea2-6d56599cc423",
   "metadata": {},
   "source": [
    "## Tasks\n",
    "\n",
    "Now write and execute SQL queries to solve the assignment tasks.\n",
    "\n",
    "**Note: If the column names are in mixed case enclose it in double quotes\n",
    "   For Example \"Landing_Outcome\"**\n",
    "\n",
    "### Task 1\n",
    "\n",
    "\n",
    "\n",
    "\n",
    "##### Display the names of the unique launch sites  in the space mission\n"
   ]
  },
  {
   "cell_type": "code",
   "execution_count": 10,
   "id": "f3d2249d-9229-4d7c-8513-9cb737522237",
   "metadata": {},
   "outputs": [
    {
     "name": "stdout",
     "output_type": "stream",
     "text": [
      "[('CCAFS LC-40',), ('VAFB SLC-4E',), ('KSC LC-39A',), ('CCAFS SLC-40',)]\n"
     ]
    }
   ],
   "source": [
    "cur.execute('SELECT DISTINCT launch_site FROM SPACEXTABLE')\n",
    "results = cur.fetchall()\n",
    "print(results)"
   ]
  },
  {
   "cell_type": "markdown",
   "id": "d121b4b9-da0e-4aab-ba95-1165a46fdc0b",
   "metadata": {},
   "source": [
    "\n",
    "### Task 2\n",
    "\n",
    "\n",
    "#####  Display 5 records where launch sites begin with the string 'CCA' \n"
   ]
  },
  {
   "cell_type": "code",
   "execution_count": 20,
   "id": "2bbe5094-bfc6-49ec-8fb9-07b37644dd04",
   "metadata": {},
   "outputs": [
    {
     "name": "stdout",
     "output_type": "stream",
     "text": [
      "[('CCAFS LC-40', 'Dragon Spacecraft Qualification Unit'), ('CCAFS LC-40', 'Dragon demo flight C1, two CubeSats, barrel of Brouere cheese'), ('CCAFS LC-40', 'Dragon demo flight C2'), ('CCAFS LC-40', 'SpaceX CRS-1'), ('CCAFS LC-40', 'SpaceX CRS-2')]\n"
     ]
    }
   ],
   "source": [
    "# display 5 records where launch sites begin with the string 'CCA'\n",
    "cur.execute('SELECT launch_site, payload FROM SPACEXTABLE WHERE launch_site LIKE \"CCA%\" LIMIT 5')  \n",
    "cca = cur.fetchall()\n",
    "print(cca)"
   ]
  },
  {
   "cell_type": "markdown",
   "id": "01a83baa-0a5d-4a3a-ba33-8447eb27ba95",
   "metadata": {},
   "source": [
    "### Task 3\n",
    "\n",
    "\n",
    "\n",
    "\n",
    "##### Display the total payload mass carried by boosters launched by NASA (CRS)\n"
   ]
  },
  {
   "cell_type": "code",
   "execution_count": 12,
   "id": "27e6bfbd-b73b-4ba3-8daa-df0ece26a8dd",
   "metadata": {},
   "outputs": [
    {
     "name": "stdout",
     "output_type": "stream",
     "text": [
      "[(45596,)]\n"
     ]
    }
   ],
   "source": [
    "# display the total payload mass carried by boosters launched by NASA (CRS)\n",
    "cur.execute('SELECT SUM(payload_mass__kg_) FROM SPACEXTABLE WHERE customer = \"NASA (CRS)\"')\n",
    "total_payload_mass = cur.fetchall()\n",
    "print(total_payload_mass)"
   ]
  },
  {
   "cell_type": "markdown",
   "id": "baa903e5-57a2-4c9e-9cfa-3c6305aa5100",
   "metadata": {},
   "source": [
    "### Task 4\n",
    "\n",
    "\n",
    "\n",
    "\n",
    "##### Display average payload mass carried by booster version F9 v1.1\n"
   ]
  },
  {
   "cell_type": "code",
   "execution_count": 13,
   "id": "0bc18667-7b6d-47ea-beb1-7cb726bdcb8a",
   "metadata": {},
   "outputs": [
    {
     "name": "stdout",
     "output_type": "stream",
     "text": [
      "[(2928.4,)]\n"
     ]
    }
   ],
   "source": [
    "# display average payload mass carried by booster version F9 v1.1\n",
    "cur.execute('SELECT AVG(payload_mass__kg_) FROM SPACEXTABLE WHERE Booster_Version = \"F9 v1.1\"')\n",
    "avg_payload_mass = cur.fetchall()\n",
    "print(avg_payload_mass)"
   ]
  },
  {
   "cell_type": "markdown",
   "id": "baaddece-9051-4d41-9e6b-25ccbaed975b",
   "metadata": {},
   "source": [
    "### Task 5\n",
    "\n",
    "##### List the date when the first succesful landing outcome in ground pad was acheived.\n",
    "\n",
    "\n",
    "_Hint:Use min function_ \n"
   ]
  },
  {
   "cell_type": "code",
   "execution_count": 14,
   "id": "6f9fe6f1-35f1-4d0d-9dc5-3876b07e814f",
   "metadata": {},
   "outputs": [
    {
     "name": "stdout",
     "output_type": "stream",
     "text": [
      "[('2015-12-22',)]\n"
     ]
    }
   ],
   "source": [
    "# list the date when the first successful landing outcome in ground pad was acheived.\n",
    "cur.execute('SELECT MIN(Date) FROM SPACEXTABLE WHERE Landing_Outcome = \"Success (ground pad)\"')\n",
    "date = cur.fetchall()\n",
    "print(date)"
   ]
  },
  {
   "cell_type": "markdown",
   "id": "89adcf79-9102-4acf-9d97-a3453a6b0fb4",
   "metadata": {},
   "source": [
    "### Task 6\n",
    "\n",
    "##### List the names of the boosters which have success in drone ship and have payload mass greater than 4000 but less than 6000\n"
   ]
  },
  {
   "cell_type": "code",
   "execution_count": 15,
   "id": "e40a37fa-c943-4c79-99e0-ace641ec0f6d",
   "metadata": {},
   "outputs": [
    {
     "name": "stdout",
     "output_type": "stream",
     "text": [
      "[('F9 FT B1022',), ('F9 FT B1026',), ('F9 FT  B1021.2',), ('F9 FT  B1031.2',)]\n"
     ]
    }
   ],
   "source": [
    "# list the names of the boosters which have success in drone ship and have payload mass greater than 4000 but less than 6000\n",
    "cur.execute('SELECT Booster_Version FROM SPACEXTABLE WHERE Landing_Outcome = \"Success (drone ship)\" AND payload_mass__kg_ > 4000 AND payload_mass__kg_ < 6000')\n",
    "boosters = cur.fetchall()\n",
    "print(boosters)"
   ]
  },
  {
   "cell_type": "markdown",
   "id": "f95a32dd-cb3f-4352-acc0-64a8bdbb71f0",
   "metadata": {},
   "source": [
    "### Task 7\n",
    "\n",
    "\n",
    "\n",
    "\n",
    "##### List the total number of successful and failure mission outcomes\n"
   ]
  },
  {
   "cell_type": "code",
   "execution_count": 16,
   "id": "3f40175e-ef62-44f0-8bf2-5c24464ccd7b",
   "metadata": {},
   "outputs": [
    {
     "name": "stdout",
     "output_type": "stream",
     "text": [
      "[(98,)]\n"
     ]
    }
   ],
   "source": [
    "# list the total number of successful and failure mission outcomes\n",
    "cur.execute('SELECT COUNT(*) FROM SPACEXTABLE WHERE Mission_Outcome = \"Success\"')\n",
    "print(cur.fetchall())"
   ]
  },
  {
   "cell_type": "markdown",
   "id": "7bf2a442-9569-4ac3-b303-da73d8687947",
   "metadata": {},
   "source": [
    "### Task 8\n",
    "\n",
    "\n",
    "\n",
    "##### List the   names of the booster_versions which have carried the maximum payload mass. Use a subquery\n"
   ]
  },
  {
   "cell_type": "code",
   "execution_count": 17,
   "id": "6f839b12-c426-445a-b7c6-b59e2924ea8e",
   "metadata": {},
   "outputs": [
    {
     "name": "stdout",
     "output_type": "stream",
     "text": [
      "[('F9 B5 B1048.4',), ('F9 B5 B1049.4',), ('F9 B5 B1051.3',), ('F9 B5 B1056.4',), ('F9 B5 B1048.5',), ('F9 B5 B1051.4',), ('F9 B5 B1049.5',), ('F9 B5 B1060.2 ',), ('F9 B5 B1058.3 ',), ('F9 B5 B1051.6',), ('F9 B5 B1060.3',), ('F9 B5 B1049.7 ',)]\n"
     ]
    }
   ],
   "source": [
    "# list the names of the booster_versions which have carried the maximum payload mass. Use a subquery\n",
    "cur.execute('SELECT Booster_Version FROM SPACEXTABLE WHERE payload_mass__kg_ = (SELECT MAX(payload_mass__kg_) FROM SPACEXTABLE)')\n",
    "print(cur.fetchall())"
   ]
  },
  {
   "cell_type": "markdown",
   "id": "4045dfc5-2771-44d5-a3fc-2f65ad3e8ccf",
   "metadata": {},
   "source": [
    "### Task 9\n",
    "\n",
    "\n",
    "##### List the records which will display the month names, failure landing_outcomes in drone ship ,booster versions, launch_site for the months in year 2015.\n",
    "\n",
    "**Note: SQLLite does not support monthnames. So you need to use  substr(Date, 6,2) as month to get the months and substr(Date,0,5)='2015' for year.**\n"
   ]
  },
  {
   "cell_type": "code",
   "execution_count": 18,
   "id": "8bac7d3c-2f2b-4c68-9bbf-b62664797845",
   "metadata": {},
   "outputs": [
    {
     "data": {
      "text/plain": [
       "[('2015-01-10', 'Failure (drone ship)', 'F9 v1.1 B1012', 'CCAFS LC-40'),\n",
       " ('2015-04-14', 'Failure (drone ship)', 'F9 v1.1 B1015', 'CCAFS LC-40')]"
      ]
     },
     "execution_count": 18,
     "metadata": {},
     "output_type": "execute_result"
    }
   ],
   "source": [
    "# list the records which will display the month names, failure landing_outcomes in drone ship ,booster versions, launch_site for the months in year 2015\n",
    "cur.execute('SELECT Date, Landing_Outcome, Booster_Version, launch_site FROM SPACEXTABLE WHERE Date LIKE \"2015%\" AND Landing_Outcome = \"Failure (drone ship)\"')\n",
    "cur.fetchall()"
   ]
  },
  {
   "cell_type": "markdown",
   "id": "dbab1a52-d17c-498a-9ed7-6b0a75ba6147",
   "metadata": {},
   "source": [
    "### Task 10\n",
    "\n",
    "\n",
    "\n",
    "\n",
    "##### Rank the count of landing outcomes (such as Failure (drone ship) or Success (ground pad)) between the date 2010-06-04 and 2017-03-20, in descending order.\n"
   ]
  },
  {
   "cell_type": "code",
   "execution_count": 19,
   "id": "cd0051e2-ab9a-4e0e-82f9-0c44b9f84a32",
   "metadata": {},
   "outputs": [
    {
     "name": "stdout",
     "output_type": "stream",
     "text": [
      "[('No attempt', 10), ('Success (drone ship)', 5), ('Failure (drone ship)', 5), ('Success (ground pad)', 3), ('Controlled (ocean)', 3), ('Uncontrolled (ocean)', 2), ('Failure (parachute)', 2), ('Precluded (drone ship)', 1)]\n"
     ]
    }
   ],
   "source": [
    "# rank the count of landing outcomes (such as Failure (drone ship) or Success (ground pad)) between the date 2010-06-04 and 2017-03-20, in descending order\n",
    "cur.execute('SELECT Landing_Outcome, COUNT(*) FROM SPACEXTABLE WHERE Date BETWEEN \"2010-06-04\" AND \"2017-03-20\" GROUP BY Landing_Outcome ORDER BY COUNT(*) DESC')\n",
    "print(cur.fetchall())"
   ]
  },
  {
   "cell_type": "markdown",
   "id": "0ba89b2a-1fc9-4556-b46a-3ef803ab5a99",
   "metadata": {},
   "source": [
    "### Reference Links\n",
    "\n",
    "* <a href =\"https://cf-courses-data.s3.us.cloud-object-storage.appdomain.cloud/IBMDeveloperSkillsNetwork-DB0201EN-SkillsNetwork/labs/Labs_Coursera_V5/labs/Lab%20-%20String%20Patterns%20-%20Sorting%20-%20Grouping/instructional-labs.md.html?origin=www.coursera.org\">Hands-on Lab : String Patterns, Sorting and Grouping</a>  \n",
    "\n",
    "*  <a  href=\"https://cf-courses-data.s3.us.cloud-object-storage.appdomain.cloud/IBMDeveloperSkillsNetwork-DB0201EN-SkillsNetwork/labs/Labs_Coursera_V5/labs/Lab%20-%20Built-in%20functions%20/Hands-on_Lab__Built-in_Functions.md.html?origin=www.coursera.org\">Hands-on Lab: Built-in functions</a>\n",
    "\n",
    "*  <a  href=\"https://cf-courses-data.s3.us.cloud-object-storage.appdomain.cloud/IBMDeveloperSkillsNetwork-DB0201EN-SkillsNetwork/labs/Labs_Coursera_V5/labs/Lab%20-%20Sub-queries%20and%20Nested%20SELECTs%20/instructional-labs.md.html?origin=www.coursera.org\">Hands-on Lab : Sub-queries and Nested SELECT Statements</a>\n",
    "\n",
    "*   <a href=\"https://cf-courses-data.s3.us.cloud-object-storage.appdomain.cloud/IBMDeveloperSkillsNetwork-DB0201EN-SkillsNetwork/labs/Module%205/DB0201EN-Week3-1-3-SQLmagic.ipynb\">Hands-on Tutorial: Accessing Databases with SQL magic</a>\n",
    "\n",
    "*  <a href= \"https://cf-courses-data.s3.us.cloud-object-storage.appdomain.cloud/IBMDeveloperSkillsNetwork-DB0201EN-SkillsNetwork/labs/Module%205/DB0201EN-Week3-1-4-Analyzing.ipynb\">Hands-on Lab: Analyzing a real World Data Set</a>\n",
    "\n",
    "\n"
   ]
  },
  {
   "cell_type": "markdown",
   "id": "b02226bd-f659-4d25-83ef-65cb89c218ec",
   "metadata": {},
   "source": [
    "## Author(s)\n",
    "\n",
    "<h4> Lakshmi Holla </h4>\n"
   ]
  },
  {
   "cell_type": "markdown",
   "id": "164f3e36-c5a4-40c6-be02-53c1869a1603",
   "metadata": {},
   "source": [
    "## Other Contributors\n",
    "\n",
    "<h4> Rav Ahuja </h4>\n"
   ]
  },
  {
   "cell_type": "markdown",
   "id": "452fa8f9-00b7-4099-a4d9-c7c62a8320a5",
   "metadata": {},
   "source": [
    "<!--\n",
    "## Change log\n",
    "| Date | Version | Changed by | Change Description |\n",
    "|------|--------|--------|---------|\n",
    "| 2024-07-10 | 1.1 |Anita Verma | Changed Version|\n",
    "| 2021-07-09 | 0.2 |Lakshmi Holla | Changes made in magic sql|\n",
    "| 2021-05-20 | 0.1 |Lakshmi Holla | Created Initial Version |\n",
    "-->\n"
   ]
  },
  {
   "cell_type": "markdown",
   "id": "c448fc58-de44-4f32-b356-d88cc8ed45fd",
   "metadata": {},
   "source": [
    "## <h3 align=\"center\"> © IBM Corporation 2021. All rights reserved. <h3/>\n"
   ]
  }
 ],
 "metadata": {
  "kernelspec": {
   "display_name": "base",
   "language": "python",
   "name": "python3"
  },
  "language_info": {
   "codemirror_mode": {
    "name": "ipython",
    "version": 3
   },
   "file_extension": ".py",
   "mimetype": "text/x-python",
   "name": "python",
   "nbconvert_exporter": "python",
   "pygments_lexer": "ipython3",
   "version": "3.12.7"
  },
  "prev_pub_hash": "da902c2e8070fbe82a1211fe564834ebcb50f7fc45ad4040b3068861f12c70b8"
 },
 "nbformat": 4,
 "nbformat_minor": 4
}
